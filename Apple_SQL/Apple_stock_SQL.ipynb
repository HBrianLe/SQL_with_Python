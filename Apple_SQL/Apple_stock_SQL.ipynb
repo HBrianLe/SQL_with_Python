{
 "cells": [
  {
   "cell_type": "code",
   "execution_count": 25,
   "metadata": {},
   "outputs": [],
   "source": [
    "from pandasql import *"
   ]
  },
  {
   "cell_type": "code",
   "execution_count": 26,
   "metadata": {},
   "outputs": [],
   "source": [
    "apple = pd.read_csv('Apple_stock_data.csv')"
   ]
  },
  {
   "cell_type": "code",
   "execution_count": 27,
   "metadata": {},
   "outputs": [],
   "source": [
    "sql = lambda q: sqldf(q, globals())\n"
   ]
  },
  {
   "cell_type": "code",
   "execution_count": 28,
   "metadata": {},
   "outputs": [
    {
     "name": "stdout",
     "output_type": "stream",
     "text": [
      "         date    year  month    open    high     low   close      volume    id\n",
      "0     1/30/14  2014.0    1.0  502.54  506.50  496.70  499.78  24182996.0     1\n",
      "1     1/29/14  2014.0    1.0  503.95  507.37  498.62  500.75  17991828.0     2\n",
      "2     1/28/14  2014.0    1.0  508.76  515.00  502.07  506.50  38119083.0     3\n",
      "3     1/27/14  2014.0    1.0  550.07  554.80  545.75  550.50  20602736.0     4\n",
      "4     1/24/14  2014.0    1.0  554.00  555.62  544.75  546.07  15483491.0     5\n",
      "...       ...     ...    ...     ...     ...     ...     ...         ...   ...\n",
      "3550   1/7/00  2000.0    1.0   24.12   25.25   23.88   24.75  16133600.0  3551\n",
      "3551   1/6/00  2000.0    1.0   26.53   26.75   23.25   23.75  26947600.0  3552\n",
      "3552   1/5/00  2000.0    1.0   25.94   27.64   25.00   26.00  27353600.0  3553\n",
      "3553   1/4/00  2000.0    1.0   27.06   27.66   25.30   25.62  17883600.0  3554\n",
      "3554   1/3/00  2000.0    1.0   26.22   28.12   25.42   27.97  18648000.0  3555\n",
      "\n",
      "[3555 rows x 9 columns]\n"
     ]
    }
   ],
   "source": [
    "print ( sql(\"SELECT * FROM apple;\"))"
   ]
  },
  {
   "cell_type": "code",
   "execution_count": 35,
   "metadata": {},
   "outputs": [
    {
     "name": "stdout",
     "output_type": "stream",
     "text": [
      "      year  month  max(close)\n",
      "0   2014.0    1.0      557.36\n",
      "1   2012.0    2.0      542.44\n",
      "2   2012.0    3.0      617.62\n",
      "3   2012.0    4.0      636.23\n",
      "4   2012.0    5.0      585.98\n",
      "5   2012.0    6.0      587.41\n",
      "6   2012.0    7.0      614.32\n",
      "7   2012.0    8.0      675.68\n",
      "8   2012.0    9.0      702.10\n",
      "9   2012.0   10.0      671.45\n",
      "10  2012.0   11.0      596.54\n",
      "11  2012.0   12.0      586.19\n"
     ]
    }
   ],
   "source": [
    "# Get the max of each month for the stock price with given year\n",
    "\n",
    "print ( sql(\"SELECT year, month, max(close) from apple GROUP BY month;\"))"
   ]
  },
  {
   "cell_type": "code",
   "execution_count": 36,
   "metadata": {},
   "outputs": [
    {
     "name": "stdout",
     "output_type": "stream",
     "text": [
      "       year  month  max_month  min_month\n",
      "0    2000.0    1.0      21.62      30.38\n",
      "1    2000.0    2.0      24.25      29.98\n",
      "2    2000.0    3.0      28.50      37.59\n",
      "3    2000.0    4.0      26.22      34.88\n",
      "4    2000.0    5.0      20.44      31.56\n",
      "..      ...    ...        ...        ...\n",
      "164  2013.0    9.0     447.22     507.92\n",
      "165  2013.0   10.0     478.28     539.25\n",
      "166  2013.0   11.0     512.38     558.33\n",
      "167  2013.0   12.0     538.80     575.14\n",
      "168  2014.0    1.0     496.70     560.20\n",
      "\n",
      "[169 rows x 4 columns]\n"
     ]
    }
   ],
   "source": [
    "# Get the min and max for year month with gien year\n",
    "\n",
    "q = \"\"\"SELECT year, month, min(low) as max_month, max(high) as min_month\n",
    "        FROM apple\n",
    "        GROUP by month, year\n",
    "        ORDER by year, month\n",
    "        \"\"\"\n",
    "\n",
    "print ( sql(q))"
   ]
  },
  {
   "cell_type": "code",
   "execution_count": 38,
   "metadata": {},
   "outputs": [
    {
     "name": "stdout",
     "output_type": "stream",
     "text": [
      "   month_count  year_count\n",
      "0           12          15\n"
     ]
    }
   ],
   "source": [
    "#  counts the number of unique values in the month column and the number of unique value in the year column\n",
    "\n",
    "q = \"\"\"SELECT COUNT(DISTINCT month) as month_count, COUNT(DISTINCT year) as year_count\n",
    "FROM apple\n",
    "        \"\"\"\n",
    "\n",
    "print ( sql(q))"
   ]
  },
  {
   "cell_type": "code",
   "execution_count": 39,
   "metadata": {},
   "outputs": [
    {
     "name": "stdout",
     "output_type": "stream",
     "text": [
      "   year  month  open  high   low  close  volume\n",
      "0  3555   3555  3541  3531  3535   3555    3547\n"
     ]
    }
   ],
   "source": [
    "#determines counts of every single column and returns all the columns\n",
    "q = \"\"\"SELECT COUNT(year) AS year,\n",
    "       COUNT(month) AS month,\n",
    "       COUNT(open) AS open,\n",
    "       COUNT(high) AS high,\n",
    "       COUNT(low) AS low,\n",
    "       COUNT(close) AS close,\n",
    "       COUNT(volume) AS volume\n",
    "  FROM apple\n",
    "        \"\"\"\n",
    "\n",
    "print ( sql(q))"
   ]
  },
  {
   "cell_type": "code",
   "execution_count": 41,
   "metadata": {},
   "outputs": [
    {
     "name": "stdout",
     "output_type": "stream",
     "text": [
      "       year  month  AVG(close - open)\n",
      "0    2000.0    1.0          -0.225500\n",
      "1    2000.0    2.0           0.122500\n",
      "2    2000.0    3.0           7.074348\n",
      "3    2000.0    4.0           0.006316\n",
      "4    2000.0    5.0          -0.555909\n",
      "..      ...    ...                ...\n",
      "164  2013.0    9.0          -2.588000\n",
      "165  2013.0   10.0           0.596957\n",
      "166  2013.0   11.0           1.398500\n",
      "167  2013.0   12.0          -0.873333\n",
      "168  2014.0    1.0          -0.959000\n",
      "\n",
      "[169 rows x 3 columns]\n"
     ]
    }
   ],
   "source": [
    "#determines the average close to open diffrence for yearn month in the year\n",
    "q = \"\"\"SELECT year, month, AVG(close - open)\n",
    "from apple\n",
    "GROUP by month, year\n",
    "ORDER by year, month\n",
    "        \"\"\"\n",
    "\n",
    "print ( sql(q))"
   ]
  },
  {
   "cell_type": "code",
   "execution_count": null,
   "metadata": {},
   "outputs": [],
   "source": []
  }
 ],
 "metadata": {
  "kernelspec": {
   "display_name": "Python 3",
   "language": "python",
   "name": "python3"
  },
  "language_info": {
   "codemirror_mode": {
    "name": "ipython",
    "version": 3
   },
   "file_extension": ".py",
   "mimetype": "text/x-python",
   "name": "python",
   "nbconvert_exporter": "python",
   "pygments_lexer": "ipython3",
   "version": "3.7.4"
  }
 },
 "nbformat": 4,
 "nbformat_minor": 4
}
